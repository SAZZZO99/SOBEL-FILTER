{
  "nbformat": 4,
  "nbformat_minor": 0,
  "metadata": {
    "colab": {
      "name": "sobel filter visualization.ipynb",
      "provenance": [],
      "authorship_tag": "ABX9TyO4HbojeLdCt2bfvzdYT2ad"
    },
    "kernelspec": {
      "name": "python3",
      "display_name": "Python 3"
    }
  },
  "cells": [
    {
      "cell_type": "code",
      "metadata": {
        "id": "PqeVuIN0rUX1",
        "colab_type": "code",
        "colab": {}
      },
      "source": [
        "import numpy as np\n",
        "import cv2\n",
        "import matplotlib.pyplot as plt\n"
      ],
      "execution_count": 1,
      "outputs": []
    },
    {
      "cell_type": "code",
      "metadata": {
        "id": "uPn4W3Z9sUWP",
        "colab_type": "code",
        "colab": {}
      },
      "source": [
        "img= cv2.imread('/content/zero.png')"
      ],
      "execution_count": 2,
      "outputs": []
    },
    {
      "cell_type": "code",
      "metadata": {
        "id": "u6VTmL8Gsf1f",
        "colab_type": "code",
        "colab": {
          "base_uri": "https://localhost:8080/",
          "height": 899
        },
        "outputId": "5261039c-71ed-4d27-947f-b3f7d3126df7"
      },
      "source": [
        "print(img)"
      ],
      "execution_count": 3,
      "outputs": [
        {
          "output_type": "stream",
          "text": [
            "[[[255 255 255]\n",
            "  [255 255 255]\n",
            "  [255 255 255]\n",
            "  ...\n",
            "  [255 255 255]\n",
            "  [255 255 255]\n",
            "  [255 255 255]]\n",
            "\n",
            " [[255 255 255]\n",
            "  [255 255 255]\n",
            "  [255 255 255]\n",
            "  ...\n",
            "  [255 255 255]\n",
            "  [255 255 255]\n",
            "  [255 255 255]]\n",
            "\n",
            " [[255 255 255]\n",
            "  [255 255 255]\n",
            "  [255 255 255]\n",
            "  ...\n",
            "  [255 255 255]\n",
            "  [255 255 255]\n",
            "  [255 255 255]]\n",
            "\n",
            " ...\n",
            "\n",
            " [[255 255 255]\n",
            "  [197 197 197]\n",
            "  [  0   0   0]\n",
            "  ...\n",
            "  [  0   0   0]\n",
            "  [196 196 196]\n",
            "  [255 255 255]]\n",
            "\n",
            " [[255 255 255]\n",
            "  [164 164 164]\n",
            "  [  0   0   0]\n",
            "  ...\n",
            "  [  0   0   0]\n",
            "  [164 164 164]\n",
            "  [255 255 255]]\n",
            "\n",
            " [[255 255 255]\n",
            "  [235 235 235]\n",
            "  [164 164 164]\n",
            "  ...\n",
            "  [164 164 164]\n",
            "  [235 235 235]\n",
            "  [255 255 255]]]\n"
          ],
          "name": "stdout"
        }
      ]
    },
    {
      "cell_type": "code",
      "metadata": {
        "id": "bVV3uQ44uYPI",
        "colab_type": "code",
        "colab": {}
      },
      "source": [
        "sobelx = cv2.Sobel(img,cv2.CV_64F,1,0,ksize=3)"
      ],
      "execution_count": 4,
      "outputs": []
    },
    {
      "cell_type": "code",
      "metadata": {
        "id": "a_lnvGFGuy8w",
        "colab_type": "code",
        "colab": {
          "base_uri": "https://localhost:8080/",
          "height": 899
        },
        "outputId": "321498cf-be8b-447c-d24d-496321226ef4"
      },
      "source": [
        "print(sobelx)"
      ],
      "execution_count": 5,
      "outputs": [
        {
          "output_type": "stream",
          "text": [
            "[[[    0.     0.     0.]\n",
            "  [    0.     0.     0.]\n",
            "  [    0.     0.     0.]\n",
            "  ...\n",
            "  [    0.     0.     0.]\n",
            "  [    0.     0.     0.]\n",
            "  [    0.     0.     0.]]\n",
            "\n",
            " [[    0.     0.     0.]\n",
            "  [    0.     0.     0.]\n",
            "  [    0.     0.     0.]\n",
            "  ...\n",
            "  [    0.     0.     0.]\n",
            "  [    0.     0.     0.]\n",
            "  [    0.     0.     0.]]\n",
            "\n",
            " [[    0.     0.     0.]\n",
            "  [    0.     0.     0.]\n",
            "  [    0.     0.     0.]\n",
            "  ...\n",
            "  [    0.     0.     0.]\n",
            "  [    0.     0.     0.]\n",
            "  [    0.     0.     0.]]\n",
            "\n",
            " ...\n",
            "\n",
            " [[    0.     0.     0.]\n",
            "  [-1020. -1020. -1020.]\n",
            "  [ -230.  -230.  -230.]\n",
            "  ...\n",
            "  [  228.   228.   228.]\n",
            "  [ 1020.  1020.  1020.]\n",
            "  [    0.     0.     0.]]\n",
            "\n",
            " [[    0.     0.     0.]\n",
            "  [ -856.  -856.  -856.]\n",
            "  [ -400.  -400.  -400.]\n",
            "  ...\n",
            "  [  398.   398.   398.]\n",
            "  [  856.   856.   856.]\n",
            "  [    0.     0.     0.]]\n",
            "\n",
            " [[    0.     0.     0.]\n",
            "  [ -692.  -692.  -692.]\n",
            "  [ -406.  -406.  -406.]\n",
            "  ...\n",
            "  [  404.   404.   404.]\n",
            "  [  692.   692.   692.]\n",
            "  [    0.     0.     0.]]]\n"
          ],
          "name": "stdout"
        }
      ]
    },
    {
      "cell_type": "code",
      "metadata": {
        "id": "wtthvQZWVAj6",
        "colab_type": "code",
        "colab": {}
      },
      "source": [
        "sobely = cv2.Sobel(img,cv2.CV_64F,0,1,ksize=3)"
      ],
      "execution_count": 6,
      "outputs": []
    },
    {
      "cell_type": "code",
      "metadata": {
        "id": "ZGCh1OQKVNTw",
        "colab_type": "code",
        "colab": {
          "base_uri": "https://localhost:8080/",
          "height": 899
        },
        "outputId": "76b36462-c30f-4a6d-f2a2-31e6dc330edd"
      },
      "source": [
        "print(sobely)"
      ],
      "execution_count": 7,
      "outputs": [
        {
          "output_type": "stream",
          "text": [
            "[[[   0.    0.    0.]\n",
            "  [   0.    0.    0.]\n",
            "  [   0.    0.    0.]\n",
            "  ...\n",
            "  [   0.    0.    0.]\n",
            "  [   0.    0.    0.]\n",
            "  [   0.    0.    0.]]\n",
            "\n",
            " [[   0.    0.    0.]\n",
            "  [   0.    0.    0.]\n",
            "  [   0.    0.    0.]\n",
            "  ...\n",
            "  [   0.    0.    0.]\n",
            "  [   0.    0.    0.]\n",
            "  [   0.    0.    0.]]\n",
            "\n",
            " [[   0.    0.    0.]\n",
            "  [   0.    0.    0.]\n",
            "  [   0.    0.    0.]\n",
            "  ...\n",
            "  [   0.    0.    0.]\n",
            "  [   0.    0.    0.]\n",
            "  [   0.    0.    0.]]\n",
            "\n",
            " ...\n",
            "\n",
            " [[ -82.  -82.  -82.]\n",
            "  [ -82.  -82.  -82.]\n",
            "  [-246. -246. -246.]\n",
            "  ...\n",
            "  [-246. -246. -246.]\n",
            "  [ -82.  -82.  -82.]\n",
            "  [ -82.  -82.  -82.]]\n",
            "\n",
            " [[  76.   76.   76.]\n",
            "  [ 240.  240.  240.]\n",
            "  [ 398.  398.  398.]\n",
            "  ...\n",
            "  [ 400.  400.  400.]\n",
            "  [ 242.  242.  242.]\n",
            "  [  78.   78.   78.]]\n",
            "\n",
            " [[   0.    0.    0.]\n",
            "  [   0.    0.    0.]\n",
            "  [   0.    0.    0.]\n",
            "  ...\n",
            "  [   0.    0.    0.]\n",
            "  [   0.    0.    0.]\n",
            "  [   0.    0.    0.]]]\n"
          ],
          "name": "stdout"
        }
      ]
    }
  ]
}